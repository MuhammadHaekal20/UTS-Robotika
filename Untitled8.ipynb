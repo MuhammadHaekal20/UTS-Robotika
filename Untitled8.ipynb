{
  "nbformat": 4,
  "nbformat_minor": 0,
  "metadata": {
    "colab": {
      "provenance": [],
      "authorship_tag": "ABX9TyOWxEj+jjQWJMXsRNPT1wOE",
      "include_colab_link": true
    },
    "kernelspec": {
      "name": "python3",
      "display_name": "Python 3"
    },
    "language_info": {
      "name": "python"
    }
  },
  "cells": [
    {
      "cell_type": "markdown",
      "metadata": {
        "id": "view-in-github",
        "colab_type": "text"
      },
      "source": [
        "<a href=\"https://colab.research.google.com/github/MuhammadHaekal20/UTS-Robotika/blob/main/Untitled8.ipynb\" target=\"_parent\"><img src=\"https://colab.research.google.com/assets/colab-badge.svg\" alt=\"Open In Colab\"/></a>"
      ]
    },
    {
      "cell_type": "code",
      "execution_count": null,
      "metadata": {
        "id": "E6PcGGGG6OAw"
      },
      "outputs": [],
      "source": [
        "import rclpy\n",
        "from rclpy.node import Node\n",
        "from geometry_msgs.msg import Twist\n",
        "\n",
        "class TurtleBot3Controller(Node):\n",
        "    def __init__(self):\n",
        "        super().__init__('turtlebot3_controller')\n",
        "        self.publisher_ = self.create_publisher(Twist, '/cmd_vel', 10)\n",
        "        timer_period = 0.1  # seconds\n",
        "        self.timer = self.create_timer(timer_period, self.timer_callback)\n",
        "        self.i = 0\n",
        "\n",
        "    def timer_callback(self):\n",
        "        msg = Twist()\n",
        "        msg.linear.x = 0.2\n",
        "        msg.angular.z = 0.2\n",
        "        self.publisher_.publish(msg)\n",
        "        self.get_logger().info('Publishing message: \"%s\"' % msg)\n",
        "\n",
        "def main(args=None):\n",
        "    rclpy.init(args=args)\n",
        "    turtlebot3_controller = TurtleBot3Controller()\n",
        "    rclpy.spin(turtlebot3_controller)\n",
        "    turtlebot3_controller.destroy_node()\n",
        "    rclpy.shutdown()\n",
        "\n",
        "if __name__ == '__main__':\n",
        "    main()\n"
      ]
    }
  ]
}